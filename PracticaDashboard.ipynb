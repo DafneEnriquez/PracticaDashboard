{
 "cells": [
  {
   "cell_type": "code",
   "execution_count": 59,
   "id": "4eeac9ed-8195-4ed2-bb05-cc07491f6f42",
   "metadata": {
    "scrolled": true
   },
   "outputs": [
    {
     "name": "stdout",
     "output_type": "stream",
     "text": [
      "Launching server at http://localhost:55753\n"
     ]
    },
    {
     "data": {
      "text/plain": [
       "<panel.io.server.Server at 0x20a3d7a7860>"
      ]
     },
     "execution_count": 59,
     "metadata": {},
     "output_type": "execute_result"
    },
    {
     "name": "stderr",
     "output_type": "stream",
     "text": [
      "WARNING:bokeh.core.validation.check:W-1005 (FIXED_SIZING_MODE): 'fixed' sizing mode requires width and height to be set: Column(id='08e86f99-1a4b-4b44-88c2-d0a24468ac72', ...)\n"
     ]
    }
   ],
   "source": [
    "import pandas as pd\n",
    "import panel as pn\n",
    "import hvplot.pandas\n",
    "\n",
    "df = pd.read_csv('C:\\\\tramites-migratorios.csv')\n",
    "order = ['Resuelto Positivamente','Sin Resolucion','Resuelto Negativamente','Desechado','Desistimiento por parte del solicitante','Tramite cancelado','Autorizado y enviado a SRE']\n",
    "\n",
    "df['Tipo de Resolucion'] = pd.Categorical(df['Tipo de Resolucion'], categories=order, ordered=True)\n",
    "\n",
    "conteo_trimestre_tipo = df.groupby(['Trimestre', 'Pais de Origen', 'Tipo de Resolucion']).size().reset_index(name='conteo')\n",
    "\n",
    "trimestre_select = pn.widgets.Select(name='Trimestre', options=['Todos'] + list(df['Trimestre'].unique()))\n",
    "pais_select = pn.widgets.Select(name='Pais de Origen', options=['Todos'] + list(df['Pais de Origen'].unique()))\n",
    "\n",
    "@pn.depends(trimestre_select, pais_select)\n",
    "def update_plot(trimestre, pais):\n",
    "    if trimestre == 'Todos' and pais == 'Todos':\n",
    "        filtered_df = conteo_trimestre_tipo\n",
    "    elif trimestre == 'Todos':\n",
    "        filtered_df = conteo_trimestre_tipo[conteo_trimestre_tipo['Pais de Origen'] == pais]\n",
    "    elif pais == 'Todos':\n",
    "        filtered_df = conteo_trimestre_tipo[conteo_trimestre_tipo['Trimestre'] == trimestre]\n",
    "    else:\n",
    "        filtered_df = conteo_trimestre_tipo[(conteo_trimestre_tipo['Trimestre'] == trimestre) & \n",
    "                                            (conteo_trimestre_tipo['Pais de Origen'] == pais)]\n",
    "    \n",
    "    if not filtered_df.empty:\n",
    "        plot = filtered_df.hvplot.bar(x='Tipo de Resolucion', y='conteo', \n",
    "                                      title=f'Resoluciones por Tipo para {trimestre} - {pais}',\n",
    "                                      xlabel='Tipo de Resolución', ylabel='Cantidad', \n",
    "                                      color='pink').opts(xrotation=45, width=800, height=400)\n",
    "        return pn.pane.HoloViews(plot)\n",
    "    else:\n",
    "        return pn.pane.HTML('<div style=\"font-size:2em; text-align:center\">No hay datos disponibles</div>')\n",
    "\n",
    "dashboard = pn.Column(\n",
    "    'Dashboard de Resoluciones por Tipo',\n",
    "    pn.Row(trimestre_select, pais_select, align='center'),\n",
    "    update_plot,\n",
    "    align='center'\n",
    ")\n",
    "\n",
    "dashboard.show()\n"
   ]
  },
  {
   "cell_type": "code",
   "execution_count": null,
   "id": "bf5d728d-3934-4899-804e-06e8ffa30f36",
   "metadata": {},
   "outputs": [],
   "source": []
  }
 ],
 "metadata": {
  "kernelspec": {
   "display_name": "Python 3 (ipykernel)",
   "language": "python",
   "name": "python3"
  },
  "language_info": {
   "codemirror_mode": {
    "name": "ipython",
    "version": 3
   },
   "file_extension": ".py",
   "mimetype": "text/x-python",
   "name": "python",
   "nbconvert_exporter": "python",
   "pygments_lexer": "ipython3",
   "version": "3.12.4"
  }
 },
 "nbformat": 4,
 "nbformat_minor": 5
}
